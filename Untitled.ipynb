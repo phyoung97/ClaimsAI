{
 "cells": [
  {
   "cell_type": "code",
   "execution_count": null,
   "id": "d75e58ee-f99c-4b68-8d23-27a0e1e28932",
   "metadata": {},
   "outputs": [],
   "source": []
  }
 ],
 "metadata": {
  "kernelspec": {
   "display_name": "Python (ClaimsAI)",
   "language": "python",
   "name": "claimsai"
  },
  "language_info": {
   "codemirror_mode": {
    "name": "ipython",
    "version": 3
   },
   "file_extension": ".py",
   "mimetype": "text/x-python",
   "name": "python",
   "nbconvert_exporter": "python",
   "pygments_lexer": "ipython3",
   "version": "3.12.11"
  }
 },
 "nbformat": 4,
 "nbformat_minor": 5
}
