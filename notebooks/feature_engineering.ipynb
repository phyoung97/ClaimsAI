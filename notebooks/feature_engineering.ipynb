{
 "cells": [
  {
   "cell_type": "markdown",
   "id": "74ede39b",
   "metadata": {},
   "source": [
    "##Feature Engineering Notebook\n",
    "\n",
    "**Goal: create new features for demographics, coverage periods, reimbursement/beneficiary and other potential derived features\n",
    "\n",
    "**Input ../data/interim/beneficiary_cleaned.csv\n",
    "\n",
    "**Output ../data/processed/beneficiary_features.csv"
   ]
  },
  {
   "cell_type": "code",
   "execution_count": 39,
   "id": "dd5e0130",
   "metadata": {},
   "outputs": [],
   "source": [
    "import os \n",
    "import pandas as pd \n",
    "import numpy as np\n",
    "\n",
    "INPUT_PATH = '../data/interim/beneficiary_cleaned.csv'\n",
    "OUTPUT_PATH = '../data/processed/beneficiary_features'\n",
    "AS_OF_DATE = '2020-12-31'"
   ]
  },
  {
   "cell_type": "code",
   "execution_count": 40,
   "id": "b288fd9e",
   "metadata": {},
   "outputs": [
    {
     "name": "stdout",
     "output_type": "stream",
     "text": [
      "(349064, 36)\n"
     ]
    },
    {
     "data": {
      "text/plain": [
       "Beneficiary Code                             object\n",
       "Birth_date                           datetime64[ns]\n",
       "Date_of_Death                        datetime64[ns]\n",
       "Gender                                        int64\n",
       "Race                                          int64\n",
       "End_Stage_Renal_Disease_Indicator            object\n",
       "State_code                                    int64\n",
       "County_code                                   int64\n",
       "Number_of_months_covered_a                    int64\n",
       "Numver_of_months_covered_b                    int64\n",
       "Number_of_months_HMO_coverage                 int64\n",
       "Number_of_months_covered_d                    int64\n",
       "Alzhiemers_or_senile                          int64\n",
       "Heart_Failure                                 int64\n",
       "Chronic_Kidney                                int64\n",
       "dtype: object"
      ]
     },
     "execution_count": 40,
     "metadata": {},
     "output_type": "execute_result"
    }
   ],
   "source": [
    "#Read In data and observe\n",
    "\n",
    "df = pd.read_csv(INPUT_PATH, parse_dates=['Birth_date', 'Date_of_Death'], low_memory=False )\n",
    "print(df.shape)\n",
    "\n",
    "df.head()\n",
    "\n",
    "df.dtypes.head(15)"
   ]
  },
  {
   "cell_type": "code",
   "execution_count": null,
   "id": "c167a352",
   "metadata": {},
   "outputs": [],
   "source": []
  },
  {
   "cell_type": "code",
   "execution_count": 41,
   "id": "48c9dd9b",
   "metadata": {},
   "outputs": [],
   "source": [
    "#Creating helper functions \n",
    "\n",
    "def safe_divide(numer, denom, eps=1.0):\n",
    "    return numer / (denom + eps)\n",
    "\n",
    "def to_datetime(s):\n",
    "    return pd.to_datetime(s, errors='coerce')\n",
    "\n",
    "#defining chronic conditions columns\n",
    "\n",
    "chronic_columns = ['Alzhiemers_or_senile',\n",
    "    'Heart_Failure',\n",
    "    'Chronic_Kidney',\n",
    "    'Cancer',\n",
    "    'COPD',\n",
    "    'Depression',\n",
    "    'Diabetes',\n",
    "    'ischemic_Heart_Disease',\n",
    "    'Osteoporosis',\n",
    "    'Rheumatoid_Arthritis',\n",
    "    'Stroke']"
   ]
  },
  {
   "cell_type": "code",
   "execution_count": 42,
   "id": "0840ac78",
   "metadata": {},
   "outputs": [
    {
     "data": {
      "text/html": [
       "<div>\n",
       "<style scoped>\n",
       "    .dataframe tbody tr th:only-of-type {\n",
       "        vertical-align: middle;\n",
       "    }\n",
       "\n",
       "    .dataframe tbody tr th {\n",
       "        vertical-align: top;\n",
       "    }\n",
       "\n",
       "    .dataframe thead th {\n",
       "        text-align: right;\n",
       "    }\n",
       "</style>\n",
       "<table border=\"1\" class=\"dataframe\">\n",
       "  <thead>\n",
       "    <tr style=\"text-align: right;\">\n",
       "      <th></th>\n",
       "      <th>AGE</th>\n",
       "      <th>Date_of_Death</th>\n",
       "      <th>Gender</th>\n",
       "      <th>Race</th>\n",
       "    </tr>\n",
       "  </thead>\n",
       "  <tbody>\n",
       "    <tr>\n",
       "      <th>0</th>\n",
       "      <td>51</td>\n",
       "      <td>0</td>\n",
       "      <td>Female</td>\n",
       "      <td>Hispanic</td>\n",
       "    </tr>\n",
       "    <tr>\n",
       "      <th>1</th>\n",
       "      <td>51</td>\n",
       "      <td>0</td>\n",
       "      <td>Female</td>\n",
       "      <td>White</td>\n",
       "    </tr>\n",
       "    <tr>\n",
       "      <th>2</th>\n",
       "      <td>51</td>\n",
       "      <td>0</td>\n",
       "      <td>Male</td>\n",
       "      <td>White</td>\n",
       "    </tr>\n",
       "  </tbody>\n",
       "</table>\n",
       "</div>"
      ],
      "text/plain": [
       "   AGE  Date_of_Death  Gender      Race\n",
       "0   51              0  Female  Hispanic\n",
       "1   51              0  Female     White\n",
       "2   51              0    Male     White"
      ]
     },
     "execution_count": 42,
     "metadata": {},
     "output_type": "execute_result"
    }
   ],
   "source": [
    "#Creating and Mapping Demographic Features\n",
    "\n",
    "fe = df.copy()\n",
    "\n",
    "#Age\n",
    "\n",
    "if 'Birth_date' in fe:\n",
    "    birth = pd.to_datetime(fe[\"Birth_date\"], errors=\"coerce\")    \n",
    "\n",
    "# Ensure as_of is a Timestamp, not a string\n",
    "as_of = pd.Timestamp(AS_OF_DATE)\n",
    "\n",
    "fe['AGE'] = ((as_of - birth).dt.days // 365).astype(\"Int64\")\n",
    "\n",
    "#Is Dead\n",
    "\n",
    "if \"Date_of_Death\" in fe:\n",
    "    death = to_datetime(fe['Date_of_Death'])\n",
    "    fe['Date_of_Death'] = death.notna().astype(int)\n",
    "\n",
    "#Mapping Gender and Race for Human comprehension\n",
    "\n",
    "sex_map = {1:\"Male\", 2: \"Female\"}\n",
    "\n",
    "race_map = {1:\"White\", 2:\"Black\", 3:\"Other\",4:\"Asian\", 5: \"Hispanic\"}\n",
    "\n",
    "if \"Gender\" in fe:\n",
    "    fe[\"Gender\"] = fe[\"Gender\"].map(sex_map).astype(\"string\")\n",
    "\n",
    "if \"Race\" in fe:\n",
    "    fe[\"Race\"] = fe[\"Race\"].map(race_map).astype(\"string\")\n",
    "\n",
    "fe[[\"AGE\",\"Date_of_Death\",\"Gender\",\"Race\"]].head(3)"
   ]
  },
  {
   "cell_type": "code",
   "execution_count": 43,
   "id": "06949b2c",
   "metadata": {},
   "outputs": [
    {
     "data": {
      "text/html": [
       "<div>\n",
       "<style scoped>\n",
       "    .dataframe tbody tr th:only-of-type {\n",
       "        vertical-align: middle;\n",
       "    }\n",
       "\n",
       "    .dataframe tbody tr th {\n",
       "        vertical-align: top;\n",
       "    }\n",
       "\n",
       "    .dataframe thead th {\n",
       "        text-align: right;\n",
       "    }\n",
       "</style>\n",
       "<table border=\"1\" class=\"dataframe\">\n",
       "  <thead>\n",
       "    <tr style=\"text-align: right;\">\n",
       "      <th></th>\n",
       "      <th>count</th>\n",
       "      <th>mean</th>\n",
       "      <th>std</th>\n",
       "      <th>min</th>\n",
       "      <th>25%</th>\n",
       "      <th>50%</th>\n",
       "      <th>75%</th>\n",
       "      <th>max</th>\n",
       "    </tr>\n",
       "  </thead>\n",
       "  <tbody>\n",
       "    <tr>\n",
       "      <th>total_coverage_months</th>\n",
       "      <td>349064.0</td>\n",
       "      <td>31.031874</td>\n",
       "      <td>11.900086</td>\n",
       "      <td>0.000000</td>\n",
       "      <td>24.0</td>\n",
       "      <td>36.000000</td>\n",
       "      <td>36.000000</td>\n",
       "      <td>48.0</td>\n",
       "    </tr>\n",
       "    <tr>\n",
       "      <th>chronic_count</th>\n",
       "      <td>349064.0</td>\n",
       "      <td>19.775694</td>\n",
       "      <td>2.451995</td>\n",
       "      <td>11.000000</td>\n",
       "      <td>18.0</td>\n",
       "      <td>21.000000</td>\n",
       "      <td>22.000000</td>\n",
       "      <td>22.0</td>\n",
       "    </tr>\n",
       "    <tr>\n",
       "      <th>avg_reimb</th>\n",
       "      <td>349064.0</td>\n",
       "      <td>138.894367</td>\n",
       "      <td>675.673983</td>\n",
       "      <td>-60.000000</td>\n",
       "      <td>0.0</td>\n",
       "      <td>30.000000</td>\n",
       "      <td>99.200000</td>\n",
       "      <td>115800.0</td>\n",
       "    </tr>\n",
       "    <tr>\n",
       "      <th>op_ratio</th>\n",
       "      <td>349064.0</td>\n",
       "      <td>417.883978</td>\n",
       "      <td>1375.417411</td>\n",
       "      <td>-100.000000</td>\n",
       "      <td>0.0</td>\n",
       "      <td>0.004999</td>\n",
       "      <td>280.000000</td>\n",
       "      <td>56930.0</td>\n",
       "    </tr>\n",
       "    <tr>\n",
       "      <th>car_ratio</th>\n",
       "      <td>349064.0</td>\n",
       "      <td>176.413754</td>\n",
       "      <td>549.163544</td>\n",
       "      <td>-301.052632</td>\n",
       "      <td>0.0</td>\n",
       "      <td>0.882598</td>\n",
       "      <td>14.705882</td>\n",
       "      <td>12800.0</td>\n",
       "    </tr>\n",
       "  </tbody>\n",
       "</table>\n",
       "</div>"
      ],
      "text/plain": [
       "                          count        mean          std         min   25%  \\\n",
       "total_coverage_months  349064.0   31.031874    11.900086    0.000000  24.0   \n",
       "chronic_count          349064.0   19.775694     2.451995   11.000000  18.0   \n",
       "avg_reimb              349064.0  138.894367   675.673983  -60.000000   0.0   \n",
       "op_ratio               349064.0  417.883978  1375.417411 -100.000000   0.0   \n",
       "car_ratio              349064.0  176.413754   549.163544 -301.052632   0.0   \n",
       "\n",
       "                             50%         75%       max  \n",
       "total_coverage_months  36.000000   36.000000      48.0  \n",
       "chronic_count          21.000000   22.000000      22.0  \n",
       "avg_reimb              30.000000   99.200000  115800.0  \n",
       "op_ratio                0.004999  280.000000   56930.0  \n",
       "car_ratio               0.882598   14.705882   12800.0  "
      ]
     },
     "execution_count": 43,
     "metadata": {},
     "output_type": "execute_result"
    }
   ],
   "source": [
    "#Creating Coverage & Utilization features\n",
    "\n",
    "pa = pd.to_numeric(fe.get(\"Number_of_months_covered_a\", 0), errors=\"coerce\").fillna(0)\n",
    "pb = pd.to_numeric(fe.get(\"Numver_of_months_covered_b\", 0), errors=\"coerce\").fillna(0)\n",
    "hmo = pd.to_numeric(fe.get(\"Number_of_months_HMO_coverage\", 0), errors=\"coerce\").fillna(0)\n",
    "pd_m = pd.to_numeric(fe.get(\"Number_of_months_covered_d\", 0), errors=\"coerce\").fillna(0)\n",
    "\n",
    "fe['total_coverage_months'] = pa + pb + hmo + pd_m\n",
    "\n",
    "#Chronic Burden\n",
    "\n",
    "if chronic_columns:\n",
    "    fe['chronic_count'] = (\n",
    "        fe[chronic_columns].apply(pd.to_numeric, errors=\"coerce\").fillna(0).astype(int).sum(axis=1)\n",
    "    )\n",
    "\n",
    "#Reimbursement totals\n",
    "ip = pd.to_numeric(fe.get('IP_reimbursement',0), errors='coerce').fillna(0)\n",
    "op = pd.to_numeric(fe.get('OP_medicare_reimbursement',0), errors='coerce').fillna(0)\n",
    "car = pd.to_numeric(fe.get('Carrier_medicare_reimb',0), errors='coerce').fillna(0)\n",
    "\n",
    "total_reimb = ip + op + car\n",
    "\n",
    "#Ratio features\n",
    "\n",
    "fe[\"avg_reimb\"] = safe_divide(total_reimb, fe['total_coverage_months']).astype(float)\n",
    "fe[\"op_ratio\"] = safe_divide(op, ip).astype(float)\n",
    "fe[\"car_ratio\"] = safe_divide(car, (op + ip)).astype(float)\n",
    "\n",
    "fe[[\"total_coverage_months\",\"chronic_count\",\"avg_reimb\",\"op_ratio\",\"car_ratio\"]].describe().T"
   ]
  },
  {
   "cell_type": "code",
   "execution_count": 44,
   "id": "5aa4ec92",
   "metadata": {},
   "outputs": [
    {
     "data": {
      "text/plain": [
       "high_chronic_flag    1.000\n",
       "high_reimb_flag      0.250\n",
       "hmo_covered_flag     0.231\n",
       "dual_elig_flag       0.898\n",
       "dtype: float64"
      ]
     },
     "execution_count": 44,
     "metadata": {},
     "output_type": "execute_result"
    }
   ],
   "source": [
    "#Creating Flags \n",
    "\n",
    "#High Chronic\n",
    "\n",
    "if \"chronic_count\" in fe:\n",
    "    fe['high_chronic_flag'] = (fe['chronic_count'] >= 5).astype(int)\n",
    "\n",
    "#High reimbursement\n",
    "\n",
    "q75 = fe['avg_reimb'].quantile(0.75) if \"avg_reimb\" in fe else np.nan\n",
    "if np.isfinite(q75):\n",
    "    fe['high_reimb_flag'] = (fe['avg_reimb']>q75).astype(int)\n",
    "\n",
    "#HMO Coverage\n",
    "fe['hmo_covered_flag'] = (pd.to_numeric(fe.get('Number_of_months_HMO_coverage',0),errors=\"coerce\").fillna(0) > 0).astype(int)\n",
    "\n",
    "#A + B coverage present\n",
    "\n",
    "fe[\"dual_elig_flag\"] = (\n",
    "    (pd.to_numeric(fe.get(\"Number_of_months_covered_a\", 0), errors=\"coerce\").fillna(0) > 0) &\n",
    "    (pd.to_numeric(fe.get(\"Numver_of_months_covered_b\", 0), errors=\"coerce\").fillna(0) > 0)\n",
    ").astype(int)\n",
    "\n",
    "fe[[\"high_chronic_flag\",\"high_reimb_flag\",\"hmo_covered_flag\",\"dual_elig_flag\"]].mean().round(3)"
   ]
  },
  {
   "cell_type": "code",
   "execution_count": 45,
   "id": "701af7cb",
   "metadata": {},
   "outputs": [
    {
     "data": {
      "text/plain": [
       "('../data/processed/beneficiary_features', (349064, 45))"
      ]
     },
     "execution_count": 45,
     "metadata": {},
     "output_type": "execute_result"
    }
   ],
   "source": [
    "os.makedirs(os.path.dirname(OUTPUT_PATH),exist_ok=True)\n",
    "fe.to_csv(OUTPUT_PATH, index=False)\n",
    "OUTPUT_PATH, fe.shape "
   ]
  }
 ],
 "metadata": {
  "kernelspec": {
   "display_name": "claimsai",
   "language": "python",
   "name": "python3"
  },
  "language_info": {
   "codemirror_mode": {
    "name": "ipython",
    "version": 3
   },
   "file_extension": ".py",
   "mimetype": "text/x-python",
   "name": "python",
   "nbconvert_exporter": "python",
   "pygments_lexer": "ipython3",
   "version": "3.12.11"
  }
 },
 "nbformat": 4,
 "nbformat_minor": 5
}
